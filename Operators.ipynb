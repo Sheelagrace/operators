{
 "cells": [
  {
   "cell_type": "markdown",
   "id": "e4d3f29d",
   "metadata": {},
   "source": [
    "### Arthmetic operator"
   ]
  },
  {
   "cell_type": "markdown",
   "id": "721e876d",
   "metadata": {},
   "source": [
    "#### Addition"
   ]
  },
  {
   "cell_type": "code",
   "execution_count": 1,
   "id": "68eafc91",
   "metadata": {},
   "outputs": [
    {
     "name": "stdout",
     "output_type": "stream",
     "text": [
      "15\n"
     ]
    }
   ],
   "source": [
    "x=10\n",
    "y=5\n",
    "z=x+y\n",
    "print(z)"
   ]
  },
  {
   "cell_type": "code",
   "execution_count": 6,
   "id": "f2484c9a",
   "metadata": {},
   "outputs": [
    {
     "data": {
      "text/plain": [
       "int"
      ]
     },
     "execution_count": 6,
     "metadata": {},
     "output_type": "execute_result"
    }
   ],
   "source": [
    "type(z)"
   ]
  },
  {
   "cell_type": "code",
   "execution_count": 2,
   "id": "704b2bfc",
   "metadata": {},
   "outputs": [
    {
     "data": {
      "text/plain": [
       "15"
      ]
     },
     "execution_count": 2,
     "metadata": {},
     "output_type": "execute_result"
    }
   ],
   "source": [
    "x=10\n",
    "y=5\n",
    "z=x+y\n",
    "z"
   ]
  },
  {
   "cell_type": "code",
   "execution_count": 7,
   "id": "edda1cf7",
   "metadata": {},
   "outputs": [
    {
     "data": {
      "text/plain": [
       "int"
      ]
     },
     "execution_count": 7,
     "metadata": {},
     "output_type": "execute_result"
    }
   ],
   "source": [
    "type(z)"
   ]
  },
  {
   "cell_type": "markdown",
   "id": "3560d965",
   "metadata": {},
   "source": [
    "#### Subtraction"
   ]
  },
  {
   "cell_type": "code",
   "execution_count": 3,
   "id": "e7363fee",
   "metadata": {},
   "outputs": [
    {
     "name": "stdout",
     "output_type": "stream",
     "text": [
      "5\n"
     ]
    }
   ],
   "source": [
    "x=10\n",
    "y=5\n",
    "z=x-y\n",
    "print(z)"
   ]
  },
  {
   "cell_type": "markdown",
   "id": "be119fb1",
   "metadata": {},
   "source": [
    "#### Multiplication"
   ]
  },
  {
   "cell_type": "code",
   "execution_count": 4,
   "id": "8e462b36",
   "metadata": {},
   "outputs": [
    {
     "name": "stdout",
     "output_type": "stream",
     "text": [
      "50\n"
     ]
    }
   ],
   "source": [
    "x=10\n",
    "y=5\n",
    "z=x*y\n",
    "print(z)"
   ]
  },
  {
   "cell_type": "code",
   "execution_count": 5,
   "id": "a255b51e",
   "metadata": {},
   "outputs": [
    {
     "data": {
      "text/plain": [
       "int"
      ]
     },
     "execution_count": 5,
     "metadata": {},
     "output_type": "execute_result"
    }
   ],
   "source": [
    "type(z)"
   ]
  },
  {
   "cell_type": "markdown",
   "id": "fecdb617",
   "metadata": {},
   "source": [
    "#### Division"
   ]
  },
  {
   "cell_type": "code",
   "execution_count": 8,
   "id": "b93d61ea",
   "metadata": {
    "scrolled": true
   },
   "outputs": [
    {
     "name": "stdout",
     "output_type": "stream",
     "text": [
      "2.0\n"
     ]
    }
   ],
   "source": [
    "x=10\n",
    "y=5\n",
    "z=x/y\n",
    "print(z)"
   ]
  },
  {
   "cell_type": "code",
   "execution_count": 9,
   "id": "4c1dcf90",
   "metadata": {},
   "outputs": [
    {
     "data": {
      "text/plain": [
       "float"
      ]
     },
     "execution_count": 9,
     "metadata": {},
     "output_type": "execute_result"
    }
   ],
   "source": [
    "type(z)"
   ]
  },
  {
   "cell_type": "code",
   "execution_count": 10,
   "id": "b30525ad",
   "metadata": {},
   "outputs": [
    {
     "name": "stdout",
     "output_type": "stream",
     "text": [
      "9.0\n"
     ]
    }
   ],
   "source": [
    "x=18\n",
    "y=2\n",
    "z=x/y\n",
    "print(z)"
   ]
  },
  {
   "cell_type": "code",
   "execution_count": 11,
   "id": "a03a552d",
   "metadata": {},
   "outputs": [
    {
     "data": {
      "text/plain": [
       "float"
      ]
     },
     "execution_count": 11,
     "metadata": {},
     "output_type": "execute_result"
    }
   ],
   "source": [
    "type(z)"
   ]
  },
  {
   "cell_type": "markdown",
   "id": "d70ab12a",
   "metadata": {},
   "source": [
    "#### Power"
   ]
  },
  {
   "cell_type": "code",
   "execution_count": 13,
   "id": "e0b39dd6",
   "metadata": {},
   "outputs": [
    {
     "name": "stdout",
     "output_type": "stream",
     "text": [
      "8\n"
     ]
    }
   ],
   "source": [
    "x=2\n",
    "y=3\n",
    "z=x**y\n",
    "print(z)"
   ]
  },
  {
   "cell_type": "code",
   "execution_count": 14,
   "id": "f4dc87e9",
   "metadata": {},
   "outputs": [
    {
     "name": "stdout",
     "output_type": "stream",
     "text": [
      "1000\n"
     ]
    }
   ],
   "source": [
    "x=10\n",
    "y=3\n",
    "z=x**y\n",
    "print(z)"
   ]
  },
  {
   "cell_type": "markdown",
   "id": "3aeff7a7",
   "metadata": {},
   "source": [
    "#### Modulus"
   ]
  },
  {
   "cell_type": "code",
   "execution_count": 15,
   "id": "5b175242",
   "metadata": {},
   "outputs": [
    {
     "name": "stdout",
     "output_type": "stream",
     "text": [
      "0\n"
     ]
    }
   ],
   "source": [
    "x=10\n",
    "y=5\n",
    "z=x%y\n",
    "print(z)"
   ]
  },
  {
   "cell_type": "code",
   "execution_count": 17,
   "id": "d5cf9489",
   "metadata": {},
   "outputs": [
    {
     "name": "stdout",
     "output_type": "stream",
     "text": [
      "1\n"
     ]
    }
   ],
   "source": [
    "x=10\n",
    "y=3\n",
    "z=x%y\n",
    "print(z)"
   ]
  },
  {
   "cell_type": "code",
   "execution_count": 18,
   "id": "430f3625",
   "metadata": {},
   "outputs": [
    {
     "name": "stdout",
     "output_type": "stream",
     "text": [
      "2\n"
     ]
    }
   ],
   "source": [
    "x=10\n",
    "y=8\n",
    "z=x%y\n",
    "print(z)"
   ]
  },
  {
   "cell_type": "code",
   "execution_count": 19,
   "id": "50bbb67b",
   "metadata": {},
   "outputs": [
    {
     "name": "stdout",
     "output_type": "stream",
     "text": [
      "2\n"
     ]
    }
   ],
   "source": [
    "x=2\n",
    "y=8\n",
    "z=x%y\n",
    "print(z)"
   ]
  },
  {
   "cell_type": "code",
   "execution_count": 20,
   "id": "b7e26b32",
   "metadata": {},
   "outputs": [
    {
     "name": "stdout",
     "output_type": "stream",
     "text": [
      "3\n"
     ]
    }
   ],
   "source": [
    "x=3\n",
    "y=8\n",
    "z=x%y\n",
    "print(z)"
   ]
  },
  {
   "cell_type": "code",
   "execution_count": 21,
   "id": "dc51304f",
   "metadata": {},
   "outputs": [
    {
     "name": "stdout",
     "output_type": "stream",
     "text": [
      "4\n"
     ]
    }
   ],
   "source": [
    "x=4\n",
    "y=8\n",
    "z=x%y\n",
    "print(z)"
   ]
  },
  {
   "cell_type": "code",
   "execution_count": 22,
   "id": "640bd837",
   "metadata": {},
   "outputs": [
    {
     "name": "stdout",
     "output_type": "stream",
     "text": [
      "5\n"
     ]
    }
   ],
   "source": [
    "x=5\n",
    "y=8\n",
    "z=x%y\n",
    "print(z)"
   ]
  },
  {
   "cell_type": "markdown",
   "id": "3c1e8338",
   "metadata": {},
   "source": [
    "#### x%y --- If x is greater than y, it gives remainder value\n",
    "If x is lesser than y it gives x value"
   ]
  },
  {
   "cell_type": "markdown",
   "id": "c790f6aa",
   "metadata": {},
   "source": [
    "#### Floor division (Quotient)"
   ]
  },
  {
   "cell_type": "code",
   "execution_count": 23,
   "id": "339dc6e2",
   "metadata": {},
   "outputs": [
    {
     "name": "stdout",
     "output_type": "stream",
     "text": [
      "2\n"
     ]
    }
   ],
   "source": [
    "x=10\n",
    "y=5\n",
    "z=x//y\n",
    "print(z)"
   ]
  },
  {
   "cell_type": "code",
   "execution_count": 25,
   "id": "8eae09d4",
   "metadata": {},
   "outputs": [
    {
     "name": "stdout",
     "output_type": "stream",
     "text": [
      "2\n"
     ]
    }
   ],
   "source": [
    "x=10\n",
    "y=4\n",
    "z=x//y\n",
    "print(z)"
   ]
  },
  {
   "cell_type": "code",
   "execution_count": 26,
   "id": "d2458099",
   "metadata": {},
   "outputs": [
    {
     "name": "stdout",
     "output_type": "stream",
     "text": [
      "1\n"
     ]
    }
   ],
   "source": [
    "x=10\n",
    "y=8\n",
    "z=x//y\n",
    "print(z)"
   ]
  },
  {
   "cell_type": "code",
   "execution_count": 27,
   "id": "451c540b",
   "metadata": {},
   "outputs": [
    {
     "name": "stdout",
     "output_type": "stream",
     "text": [
      "0\n"
     ]
    }
   ],
   "source": [
    "x=5\n",
    "y=8\n",
    "z=x//y\n",
    "print(z)"
   ]
  },
  {
   "cell_type": "code",
   "execution_count": 28,
   "id": "258bba2e",
   "metadata": {},
   "outputs": [
    {
     "name": "stdout",
     "output_type": "stream",
     "text": [
      "0\n"
     ]
    }
   ],
   "source": [
    "x=2\n",
    "y=8\n",
    "z=x//y\n",
    "print(z)"
   ]
  },
  {
   "cell_type": "markdown",
   "id": "494cd2df",
   "metadata": {},
   "source": [
    "#### x//y If x is greater than y then it gives Quotient\n",
    "#### if x is lesser than y then it gives 0"
   ]
  },
  {
   "cell_type": "markdown",
   "id": "b444f2ab",
   "metadata": {},
   "source": [
    "### Relational Operator"
   ]
  },
  {
   "cell_type": "code",
   "execution_count": 30,
   "id": "f21fbc9b",
   "metadata": {},
   "outputs": [
    {
     "data": {
      "text/plain": [
       "False"
      ]
     },
     "execution_count": 30,
     "metadata": {},
     "output_type": "execute_result"
    }
   ],
   "source": [
    "x=10\n",
    "y=5\n",
    "x==y"
   ]
  },
  {
   "cell_type": "code",
   "execution_count": 31,
   "id": "94fcb4c0",
   "metadata": {},
   "outputs": [
    {
     "data": {
      "text/plain": [
       "True"
      ]
     },
     "execution_count": 31,
     "metadata": {},
     "output_type": "execute_result"
    }
   ],
   "source": [
    "x=10\n",
    "y=5\n",
    "x!=y"
   ]
  },
  {
   "cell_type": "code",
   "execution_count": 32,
   "id": "ba4cdb2f",
   "metadata": {},
   "outputs": [
    {
     "data": {
      "text/plain": [
       "True"
      ]
     },
     "execution_count": 32,
     "metadata": {},
     "output_type": "execute_result"
    }
   ],
   "source": [
    "x=10\n",
    "y=10\n",
    "x==y"
   ]
  },
  {
   "cell_type": "code",
   "execution_count": 33,
   "id": "fecde877",
   "metadata": {},
   "outputs": [
    {
     "data": {
      "text/plain": [
       "False"
      ]
     },
     "execution_count": 33,
     "metadata": {},
     "output_type": "execute_result"
    }
   ],
   "source": [
    "x=10\n",
    "y=10\n",
    "x!=y"
   ]
  },
  {
   "cell_type": "code",
   "execution_count": 35,
   "id": "3b2054e0",
   "metadata": {},
   "outputs": [
    {
     "data": {
      "text/plain": [
       "True"
      ]
     },
     "execution_count": 35,
     "metadata": {},
     "output_type": "execute_result"
    }
   ],
   "source": [
    "x=10\n",
    "y=5\n",
    "x>y"
   ]
  },
  {
   "cell_type": "code",
   "execution_count": 36,
   "id": "e7e42e3a",
   "metadata": {},
   "outputs": [
    {
     "data": {
      "text/plain": [
       "False"
      ]
     },
     "execution_count": 36,
     "metadata": {},
     "output_type": "execute_result"
    }
   ],
   "source": [
    "x=10\n",
    "y=5\n",
    "x<y"
   ]
  },
  {
   "cell_type": "code",
   "execution_count": 37,
   "id": "f513d645",
   "metadata": {},
   "outputs": [
    {
     "data": {
      "text/plain": [
       "True"
      ]
     },
     "execution_count": 37,
     "metadata": {},
     "output_type": "execute_result"
    }
   ],
   "source": [
    "x=10\n",
    "y=5\n",
    "x>=y"
   ]
  },
  {
   "cell_type": "code",
   "execution_count": 38,
   "id": "3c6a2483",
   "metadata": {},
   "outputs": [
    {
     "data": {
      "text/plain": [
       "True"
      ]
     },
     "execution_count": 38,
     "metadata": {},
     "output_type": "execute_result"
    }
   ],
   "source": [
    "x=10\n",
    "y=10\n",
    "x>=y"
   ]
  },
  {
   "cell_type": "markdown",
   "id": "0510c5e0",
   "metadata": {},
   "source": [
    "#### Logical operator"
   ]
  },
  {
   "cell_type": "code",
   "execution_count": 40,
   "id": "ab86ebc7",
   "metadata": {},
   "outputs": [],
   "source": [
    "x=True\n",
    "y=False\n",
    "Z=True"
   ]
  },
  {
   "cell_type": "code",
   "execution_count": 41,
   "id": "1fcf2b99",
   "metadata": {},
   "outputs": [
    {
     "data": {
      "text/plain": [
       "False"
      ]
     },
     "execution_count": 41,
     "metadata": {},
     "output_type": "execute_result"
    }
   ],
   "source": [
    "x and y"
   ]
  },
  {
   "cell_type": "code",
   "execution_count": 47,
   "id": "aca196fa",
   "metadata": {},
   "outputs": [
    {
     "data": {
      "text/plain": [
       "False"
      ]
     },
     "execution_count": 47,
     "metadata": {},
     "output_type": "execute_result"
    }
   ],
   "source": [
    "y and z"
   ]
  },
  {
   "cell_type": "code",
   "execution_count": 71,
   "id": "25e052de",
   "metadata": {},
   "outputs": [
    {
     "data": {
      "text/plain": [
       "True"
      ]
     },
     "execution_count": 71,
     "metadata": {},
     "output_type": "execute_result"
    }
   ],
   "source": [
    "x and Z"
   ]
  },
  {
   "cell_type": "markdown",
   "id": "257166d7",
   "metadata": {},
   "source": [
    "#### true(1),  false(0) and --> Multiplication\n",
    "or--> addition"
   ]
  },
  {
   "cell_type": "code",
   "execution_count": 54,
   "id": "65fda714",
   "metadata": {},
   "outputs": [],
   "source": [
    "x=True\n",
    "y=False\n",
    "Z=True"
   ]
  },
  {
   "cell_type": "code",
   "execution_count": 55,
   "id": "df862f50",
   "metadata": {},
   "outputs": [
    {
     "data": {
      "text/plain": [
       "True"
      ]
     },
     "execution_count": 55,
     "metadata": {},
     "output_type": "execute_result"
    }
   ],
   "source": [
    "x or y\n"
   ]
  },
  {
   "cell_type": "code",
   "execution_count": 56,
   "id": "cc14c006",
   "metadata": {},
   "outputs": [
    {
     "data": {
      "text/plain": [
       "True"
      ]
     },
     "execution_count": 56,
     "metadata": {},
     "output_type": "execute_result"
    }
   ],
   "source": [
    "x or y"
   ]
  },
  {
   "cell_type": "code",
   "execution_count": 57,
   "id": "44fbf146",
   "metadata": {},
   "outputs": [
    {
     "data": {
      "text/plain": [
       "True"
      ]
     },
     "execution_count": 57,
     "metadata": {},
     "output_type": "execute_result"
    }
   ],
   "source": [
    "y or x"
   ]
  },
  {
   "cell_type": "code",
   "execution_count": 70,
   "id": "6827581a",
   "metadata": {},
   "outputs": [
    {
     "data": {
      "text/plain": [
       "True"
      ]
     },
     "execution_count": 70,
     "metadata": {},
     "output_type": "execute_result"
    }
   ],
   "source": [
    "y or Z"
   ]
  },
  {
   "cell_type": "code",
   "execution_count": 60,
   "id": "b2e50d73",
   "metadata": {},
   "outputs": [
    {
     "data": {
      "text/plain": [
       "True"
      ]
     },
     "execution_count": 60,
     "metadata": {},
     "output_type": "execute_result"
    }
   ],
   "source": [
    "x or z"
   ]
  },
  {
   "cell_type": "code",
   "execution_count": 61,
   "id": "206e5101",
   "metadata": {},
   "outputs": [
    {
     "data": {
      "text/plain": [
       "False"
      ]
     },
     "execution_count": 61,
     "metadata": {},
     "output_type": "execute_result"
    }
   ],
   "source": [
    "z or y"
   ]
  },
  {
   "cell_type": "code",
   "execution_count": null,
   "id": "f05a2525",
   "metadata": {},
   "outputs": [],
   "source": [
    "not--> opposite"
   ]
  },
  {
   "cell_type": "code",
   "execution_count": 68,
   "id": "b338eac1",
   "metadata": {},
   "outputs": [],
   "source": [
    "x=True\n",
    "y=False\n",
    "Z=True"
   ]
  },
  {
   "cell_type": "code",
   "execution_count": 63,
   "id": "ae4e1250",
   "metadata": {},
   "outputs": [
    {
     "data": {
      "text/plain": [
       "False"
      ]
     },
     "execution_count": 63,
     "metadata": {},
     "output_type": "execute_result"
    }
   ],
   "source": [
    "not(x)"
   ]
  },
  {
   "cell_type": "code",
   "execution_count": 64,
   "id": "2aefdbe6",
   "metadata": {},
   "outputs": [
    {
     "data": {
      "text/plain": [
       "True"
      ]
     },
     "execution_count": 64,
     "metadata": {},
     "output_type": "execute_result"
    }
   ],
   "source": [
    "not(y)"
   ]
  },
  {
   "cell_type": "code",
   "execution_count": 69,
   "id": "be57b99b",
   "metadata": {},
   "outputs": [
    {
     "data": {
      "text/plain": [
       "False"
      ]
     },
     "execution_count": 69,
     "metadata": {},
     "output_type": "execute_result"
    }
   ],
   "source": [
    "not(Z)"
   ]
  },
  {
   "cell_type": "code",
   "execution_count": null,
   "id": "745b7a47",
   "metadata": {},
   "outputs": [],
   "source": []
  }
 ],
 "metadata": {
  "kernelspec": {
   "display_name": "Python 3 (ipykernel)",
   "language": "python",
   "name": "python3"
  },
  "language_info": {
   "codemirror_mode": {
    "name": "ipython",
    "version": 3
   },
   "file_extension": ".py",
   "mimetype": "text/x-python",
   "name": "python",
   "nbconvert_exporter": "python",
   "pygments_lexer": "ipython3",
   "version": "3.11.5"
  }
 },
 "nbformat": 4,
 "nbformat_minor": 5
}
